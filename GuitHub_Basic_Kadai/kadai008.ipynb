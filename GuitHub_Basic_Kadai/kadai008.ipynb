{
  "nbformat": 4,
  "nbformat_minor": 0,
  "metadata": {
    "colab": {
      "provenance": []
    },
    "kernelspec": {
      "name": "python3",
      "display_name": "Python 3"
    },
    "language_info": {
      "name": "python"
    }
  },
  "cells": [
    {
      "cell_type": "code",
      "execution_count": 4,
      "metadata": {
        "colab": {
          "base_uri": "https://localhost:8080/"
        },
        "id": "9CJZQ0_OxJES",
        "outputId": "9312e7cc-e773-4fe6-b2d3-25c3058c56a4"
      },
      "outputs": [
        {
          "output_type": "stream",
          "name": "stdout",
          "text": [
            "Fizz\n",
            "Buzz\n",
            "FizzBuzz\n"
          ]
        }
      ],
      "source": [
        "var = 12\n",
        "\n",
        "if var % 3 == 0 and var % 5 == 0:\n",
        "    print(\"FizzBuzz\")\n",
        "else:\n",
        "    if var % 3 == 0:\n",
        "        print(\"Fizz\")\n",
        "    else:\n",
        "        if var % 5 == 0:\n",
        "            print(\"Buzz\")\n",
        "        else:\n",
        "            print(var)\n",
        "\n",
        "var = 10\n",
        "\n",
        "if var % 3 == 0 and var % 5 == 0:\n",
        "    print(\"FizzBuzz\")\n",
        "else:\n",
        "    if var % 3 == 0:\n",
        "        print(\"Fizz\")\n",
        "    else:\n",
        "        if var % 5 == 0:\n",
        "            print(\"Buzz\")\n",
        "        else:\n",
        "            print(var)\n",
        "\n",
        "\n",
        "var = 15\n",
        "\n",
        "if var % 3 == 0 and var % 5 == 0:\n",
        "    print(\"FizzBuzz\")\n",
        "else:\n",
        "    if var % 3 == 0:\n",
        "        print(\"Fizz\")\n",
        "    else:\n",
        "        if var % 5 == 0:\n",
        "            print(\"Buzz\")\n",
        "        else:\n",
        "            print(var)"
      ]
    }
  ]
}