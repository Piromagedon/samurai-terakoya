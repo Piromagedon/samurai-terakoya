{
  "nbformat": 4,
  "nbformat_minor": 0,
  "metadata": {
    "colab": {
      "provenance": []
    },
    "kernelspec": {
      "name": "python3",
      "display_name": "Python 3"
    },
    "language_info": {
      "name": "python"
    }
  },
  "cells": [
    {
      "cell_type": "code",
      "execution_count": 2,
      "metadata": {
        "colab": {
          "base_uri": "https://localhost:8080/"
        },
        "id": "Ns3WS1R-BsWh",
        "outputId": "1f0413d0-40fd-4de6-f71c-86cbb1dd0b2c"
      },
      "outputs": [
        {
          "output_type": "stream",
          "name": "stdout",
          "text": [
            "台形の面積は 75.0 cm² です\n"
          ]
        }
      ],
      "source": [
        "Johen = 10  # cm\n",
        "Kahen = 20  # cm\n",
        "Takasa = 5   # cm\n",
        "\n",
        "# 台形の面積を計算\n",
        "Menseki = (Johen + Kahen) * Takasa / 2\n",
        "\n",
        "# 結果を表示\n",
        "print(f\"台形の面積は {Menseki} cm² です\")"
      ]
    }
  ]
}